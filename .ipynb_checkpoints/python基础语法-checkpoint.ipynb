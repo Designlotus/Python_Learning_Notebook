{
 "cells": [
  {
   "cell_type": "markdown",
   "metadata": {},
   "source": [
    "### 字符串"
   ]
  },
  {
   "cell_type": "markdown",
   "metadata": {},
   "source": [
    "##### 大小写转换"
   ]
  },
  {
   "cell_type": "code",
   "execution_count": 1,
   "metadata": {},
   "outputs": [
    {
     "name": "stdout",
     "output_type": "stream",
     "text": [
      "Wu Fei\n",
      "WU FEI\n",
      "wu fei\n"
     ]
    }
   ],
   "source": [
    "name='wu fei'\n",
    "print(name.title())  #将每个单词的首字母都改为大写\n",
    "print(name.upper())\n",
    "print(name.lower())"
   ]
  },
  {
   "cell_type": "markdown",
   "metadata": {},
   "source": [
    "##### 删除两端字符（空白）"
   ]
  },
  {
   "cell_type": "code",
   "execution_count": 11,
   "metadata": {},
   "outputs": [
    {
     "name": "stdout",
     "output_type": "stream",
     "text": [
      " *wu !fei! \n",
      "*wu !fei!\n",
      "wu !fei\n"
     ]
    }
   ],
   "source": [
    "name=' *wu !fei! '\n",
    "print(name)\n",
    "print(name.strip())\n",
    "#删除两端特定字符\n",
    "print(name.strip(' *!'))"
   ]
  },
  {
   "cell_type": "markdown",
   "metadata": {},
   "source": [
    "##### 字符串的格式化format"
   ]
  },
  {
   "cell_type": "code",
   "execution_count": 14,
   "metadata": {},
   "outputs": [
    {
     "name": "stdout",
     "output_type": "stream",
     "text": [
      "wufei want to be a Data Science\n"
     ]
    }
   ],
   "source": [
    "#字符串.format()\n",
    "print('{} want to be a {}'.format('wufei','Data Science'))"
   ]
  },
  {
   "cell_type": "code",
   "execution_count": 17,
   "metadata": {},
   "outputs": [
    {
     "name": "stdout",
     "output_type": "stream",
     "text": [
      "['http://apistore.baidu.com/microservice/weather?citypinyin=wuhan', 'http://apistore.baidu.com/microservice/weather?citypinyin=beijing', 'http://apistore.baidu.com/microservice/weather?citypinyin=shanghai']\n"
     ]
    }
   ],
   "source": [
    "#实例：结合列表推导式填充网址中空缺的部分，生成一系列网址\n",
    "cities=['wuhan','beijing','shanghai']\n",
    "list=['http://apistore.baidu.com/microservice/weather?citypinyin={}'.format(city) for city in cities]\n",
    "print(list)"
   ]
  },
  {
   "cell_type": "markdown",
   "metadata": {},
   "source": [
    "##### 字符串的分割与连接（split,join）,替换replace"
   ]
  },
  {
   "cell_type": "code",
   "execution_count": 21,
   "metadata": {},
   "outputs": [
    {
     "name": "stdout",
     "output_type": "stream",
     "text": [
      "['wu', 'fei', 'lotus']\n",
      "wu+fei+lotus\n"
     ]
    }
   ],
   "source": [
    "name='wu,fei,lotus'\n",
    "name_list=name.split(',')\n",
    "print(name_list)\n",
    "new_name='+'.join(name_list)  #注意用法:   '连接符'.join(列表)\n",
    "print(new_name)"
   ]
  },
  {
   "cell_type": "code",
   "execution_count": 23,
   "metadata": {},
   "outputs": [
    {
     "name": "stdout",
     "output_type": "stream",
     "text": [
      "*********0006\n"
     ]
    }
   ],
   "source": [
    "#密码的隐藏\n",
    "phone_number = '1386-666-0006'\n",
    "hiding_number = phone_number.replace(phone_number[:9],'*' * 9)  #字符串的乘法表示多个\n",
    "print(hiding_number)"
   ]
  },
  {
   "cell_type": "markdown",
   "metadata": {},
   "source": [
    "### 列表"
   ]
  },
  {
   "cell_type": "markdown",
   "metadata": {},
   "source": [
    "#### 添加元素append insert"
   ]
  },
  {
   "cell_type": "code",
   "execution_count": 25,
   "metadata": {},
   "outputs": [
    {
     "name": "stdout",
     "output_type": "stream",
     "text": [
      "['wu', 'design', 'lotus', 'fei']\n"
     ]
    }
   ],
   "source": [
    "#使用方法 insert() 可在列表的任何位置添加新元素。为此，你需要指定新元素的索引和值\n",
    "names=['wu','lotus','fei']\n",
    "names.insert(1,'design')\n",
    "print(names)"
   ]
  },
  {
   "cell_type": "markdown",
   "metadata": {},
   "source": [
    "#### 删除元素 del pop remove"
   ]
  },
  {
   "cell_type": "code",
   "execution_count": 26,
   "metadata": {},
   "outputs": [
    {
     "name": "stdout",
     "output_type": "stream",
     "text": [
      "['wu', 'fei', 'lotus']\n"
     ]
    }
   ],
   "source": [
    "#使用 del 可删除任何位置处的列表元素，条件是知道其索引\n",
    "names=['wu','fei','design','lotus']\n",
    "del names[2]\n",
    "print(names)"
   ]
  },
  {
   "cell_type": "code",
   "execution_count": 27,
   "metadata": {},
   "outputs": [
    {
     "name": "stdout",
     "output_type": "stream",
     "text": [
      "['wu', 'fei', 'design']\n",
      "lotus\n"
     ]
    }
   ],
   "source": [
    "#方法 pop() 可删除列表末尾的元素，并让你能够接着使用它\n",
    "names=['wu','fei','design','lotus']\n",
    "last=names.pop()\n",
    "print(names)\n",
    "print(last)"
   ]
  },
  {
   "cell_type": "code",
   "execution_count": 28,
   "metadata": {},
   "outputs": [
    {
     "name": "stdout",
     "output_type": "stream",
     "text": [
      "['wu', 'design', 'lotus']\n",
      "fei\n"
     ]
    }
   ],
   "source": [
    "#使用 pop() 来删除列表中任何位置的元素，只需在括号中指定要删除的元素的索引即可\n",
    "names=['wu','fei','design','lotus']\n",
    "second=names.pop(1)\n",
    "print(names)\n",
    "print(second)"
   ]
  },
  {
   "cell_type": "code",
   "execution_count": 32,
   "metadata": {},
   "outputs": [
    {
     "name": "stdout",
     "output_type": "stream",
     "text": [
      "['lotus', 'wufei']\n",
      "['bike', 'phone', 'phone']\n"
     ]
    }
   ],
   "source": [
    "#如果你只知道要删除的元素的值，可使用方法 remove() \n",
    "names=['wufei','lotus','wufei']\n",
    "names.remove('wufei')\n",
    "print(names)  \n",
    "\n",
    "#方法 remove() 只删除第一个指定的值。如果要删除的值在列表中出现多次，就需要使用循环来判断是否删除了所有这样\n",
    "def remove_all(start_list,del_str):\n",
    "    while del_str in start_list:\n",
    "        start_list.remove(del_str)\n",
    "        \n",
    "products=['bike','apple','phone','phone','apple','apple']\n",
    "remove_all(products,'apple')\n",
    "print(products)"
   ]
  },
  {
   "cell_type": "markdown",
   "metadata": {},
   "source": [
    "#### 创建数值列表range()"
   ]
  },
  {
   "cell_type": "code",
   "execution_count": 48,
   "metadata": {
    "collapsed": true
   },
   "outputs": [
    {
     "name": "stdout",
     "output_type": "stream",
     "text": [
      "0\n",
      "2\n",
      "4\n",
      "6\n",
      "8\n",
      "10\n",
      "[1, 4, 9, 16, 25, 36, 49, 64, 81, 100]\n"
     ]
    }
   ],
   "source": [
    "#使用函数 range() 时，还可指定步长\n",
    "for item in range(0,11,2):\n",
    "    print(item)\n",
    "\n",
    "squares = []\n",
    "for value in range(1,11):\n",
    "    square = value**2  #**两个星号表示乘方\n",
    "    squares.append(square)\n",
    "print(squares)"
   ]
  },
  {
   "cell_type": "markdown",
   "metadata": {},
   "source": [
    "#### 统计计算 max min sum"
   ]
  },
  {
   "cell_type": "code",
   "execution_count": 50,
   "metadata": {
    "collapsed": true
   },
   "outputs": [
    {
     "name": "stdout",
     "output_type": "stream",
     "text": [
      "0\n",
      "9\n",
      "45\n"
     ]
    }
   ],
   "source": [
    "digits = [1, 2, 3, 4, 5, 6, 7, 8, 9, 0]\n",
    "print(min(digits))\n",
    "print(max(digits))\n",
    "print(sum(digits))"
   ]
  },
  {
   "cell_type": "markdown",
   "metadata": {},
   "source": [
    "#### 使用列表的一部分(切片)"
   ]
  },
  {
   "cell_type": "code",
   "execution_count": 51,
   "metadata": {},
   "outputs": [
    {
     "name": "stdout",
     "output_type": "stream",
     "text": [
      "['charles', 'martina', 'michael']\n"
     ]
    }
   ],
   "source": [
    "players = ['charles', 'martina', 'michael', 'florence', 'eli']\n",
    "print(players[:-2])"
   ]
  },
  {
   "cell_type": "markdown",
   "metadata": {},
   "source": [
    "#### 复制列表"
   ]
  },
  {
   "cell_type": "code",
   "execution_count": 52,
   "metadata": {},
   "outputs": [
    {
     "name": "stdout",
     "output_type": "stream",
     "text": [
      "['pizza', 'falafel', 'carrot cake']\n"
     ]
    }
   ],
   "source": [
    "#要复制列表，可创建一个包含整个列表的切片，方法是同时省略起始索引和终止索引（ [:] ）\n",
    "my_foods = ['pizza', 'falafel', 'carrot cake']\n",
    "friend_foods = my_foods[:]\n",
    "print(friend_foods)"
   ]
  },
  {
   "cell_type": "markdown",
   "metadata": {
    "collapsed": true
   },
   "source": [
    "### 字典"
   ]
  },
  {
   "cell_type": "markdown",
   "metadata": {},
   "source": [
    "#### 删除键值对del"
   ]
  },
  {
   "cell_type": "code",
   "execution_count": 1,
   "metadata": {},
   "outputs": [
    {
     "name": "stdout",
     "output_type": "stream",
     "text": [
      "{'color': 'green', 'points': 5}\n",
      "{'color': 'green'}\n"
     ]
    }
   ],
   "source": [
    "alien_0 = {'color': 'green', 'points': 5}\n",
    "print(alien_0)\n",
    "del alien_0['points']\n",
    "print(alien_0)"
   ]
  },
  {
   "cell_type": "markdown",
   "metadata": {},
   "source": [
    "#### 遍历字典"
   ]
  },
  {
   "cell_type": "code",
   "execution_count": 3,
   "metadata": {
    "collapsed": true
   },
   "outputs": [
    {
     "name": "stdout",
     "output_type": "stream",
     "text": [
      "\n",
      "Key: username\n",
      "Value: efermi\n",
      "\n",
      "Key: first\n",
      "Value: enrico\n",
      "\n",
      "Key: last\n",
      "Value: fermi\n",
      "dict_items([('username', 'efermi'), ('first', 'enrico'), ('last', 'fermi')])\n"
     ]
    }
   ],
   "source": [
    "#遍历键值\n",
    "user= {\n",
    "'username': 'efermi',\n",
    "'first': 'enrico',\n",
    "'last': 'fermi',\n",
    "}\n",
    "\n",
    "for key, value in user.items():   #items()返回一个键值对列表\n",
    "    print(\"\\nKey: \" + key)\n",
    "    print(\"Value: \" + value)\n",
    "\n",
    "print(user.items())"
   ]
  },
  {
   "cell_type": "code",
   "execution_count": 6,
   "metadata": {
    "collapsed": true
   },
   "outputs": [
    {
     "name": "stdout",
     "output_type": "stream",
     "text": [
      "Jen\n",
      "Sarah\n",
      "Edward\n",
      "Phil\n",
      "dict_keys(['jen', 'sarah', 'edward', 'phil'])\n",
      "Erin, please take our poll!\n"
     ]
    }
   ],
   "source": [
    "#遍历遍历字典中的所有键keys()\n",
    "favorite_languages = {\n",
    "'jen': 'python',\n",
    "'sarah': 'c',\n",
    "'edward': 'ruby',\n",
    "'phil': 'python',\n",
    "}\n",
    "for name in favorite_languages.keys():\n",
    "    print(name.title())\n",
    "\n",
    "print(favorite_languages.keys()) #keys返回包含键的列表\n",
    "\n",
    "if 'erin' not in favorite_languages.keys():\n",
    "    print(\"Erin, please take our poll!\")\n",
    "    "
   ]
  },
  {
   "cell_type": "code",
   "execution_count": 8,
   "metadata": {},
   "outputs": [
    {
     "name": "stdout",
     "output_type": "stream",
     "text": [
      "The following languages have been mentioned:\n",
      "Python\n",
      "C\n",
      "Ruby\n",
      "Python\n"
     ]
    }
   ],
   "source": [
    "#遍历字典中的所有值values()\n",
    "favorite_languages = {\n",
    "'jen': 'python',\n",
    "'sarah': 'c',\n",
    "'edward': 'ruby',\n",
    "'phil': 'python',\n",
    "}\n",
    "print(\"The following languages have been mentioned:\")\n",
    "for language in favorite_languages.values():\n",
    "    print(language.title())"
   ]
  },
  {
   "cell_type": "markdown",
   "metadata": {},
   "source": [
    "### 嵌套"
   ]
  },
  {
   "cell_type": "markdown",
   "metadata": {},
   "source": [
    "#### 在列表中嵌套字典"
   ]
  },
  {
   "cell_type": "code",
   "execution_count": 13,
   "metadata": {
    "collapsed": true
   },
   "outputs": [
    {
     "name": "stdout",
     "output_type": "stream",
     "text": [
      "{'color': 'green', 'points': 5, 'speed': 'slow'}\n",
      "...\n",
      "{'color': 'green', 'points': 5, 'speed': 'slow'}\n",
      "...\n",
      "{'color': 'green', 'points': 5, 'speed': 'slow'}\n",
      "...\n",
      "{'color': 'green', 'points': 5, 'speed': 'slow'}\n",
      "...\n",
      "{'color': 'green', 'points': 5, 'speed': 'slow'}\n",
      "...\n"
     ]
    }
   ],
   "source": [
    "#经常需要在列表中包含大量的字典，而其中每个字典都包含特定对象的众多信息。\n",
    "#例如，你可能需要为网站的每个用户创建一个字典,并将这些字典存储在一个名为\n",
    "# users 的列表中。在这个列表中，所有字典的结构都相同，因此你可以遍历这个列\n",
    "# 表，并以相同的方式处理其中的每个字典\n",
    "\n",
    "#  创建一个用于存储外星人的空列表\n",
    "aliens = []\n",
    "#  创建 30 个绿色的外星人\n",
    "for alien_number in range(30):\n",
    "    new_alien = {'color': 'green', 'points': 5, 'speed': 'slow'}\n",
    "    aliens.append(new_alien)\n",
    "#  显示前五个外星人\n",
    "for alien in aliens[:5]:\n",
    "    print(alien)\n",
    "    print(\"...\")"
   ]
  },
  {
   "cell_type": "markdown",
   "metadata": {},
   "source": [
    "#### 在字典中存储列表"
   ]
  },
  {
   "cell_type": "code",
   "execution_count": 14,
   "metadata": {},
   "outputs": [
    {
     "name": "stdout",
     "output_type": "stream",
     "text": [
      "mushrooms\n",
      "extra cheese\n"
     ]
    }
   ],
   "source": [
    "#每当需要在字典中将一个键关联到多个值时，都可以在字典中嵌套一个列表\n",
    "pizza = {\n",
    "'crust': 'thick',\n",
    "'toppings': ['mushrooms', 'extra cheese'],\n",
    "}\n",
    "\n",
    "for item in pizza['toppings']:\n",
    "    print(item)"
   ]
  },
  {
   "cell_type": "markdown",
   "metadata": {},
   "source": [
    "#### 在字典中存储字典"
   ]
  },
  {
   "cell_type": "code",
   "execution_count": 2,
   "metadata": {
    "collapsed": true
   },
   "outputs": [],
   "source": [
    "users = {\n",
    "    'aeinstein': {\n",
    "            'first': 'albert',\n",
    "            'last': 'einstein',\n",
    "            'location': 'princeton',\n",
    "    },\n",
    "    'mcurie': {\n",
    "            'first': 'marie',\n",
    "            'last': 'curie',\n",
    "            'location': 'paris',\n",
    "    },\n",
    "}"
   ]
  },
  {
   "cell_type": "markdown",
   "metadata": {},
   "source": [
    "### 面向对象"
   ]
  },
  {
   "cell_type": "markdown",
   "metadata": {},
   "source": [
    "#### 实例变量与类变量,实例方法与类方法"
   ]
  },
  {
   "cell_type": "code",
   "execution_count": 6,
   "metadata": {
    "collapsed": true
   },
   "outputs": [
    {
     "name": "stdout",
     "output_type": "stream",
     "text": [
      "吴飞\n",
      "21\n",
      "60\n",
      "homework\n",
      "61\n"
     ]
    }
   ],
   "source": [
    "class Student():\n",
    "    #类变量\n",
    "    sum1=60\n",
    "    \n",
    "    #定义构造函数（初始化实例的特征）\n",
    "    def __init__(self,name,age):\n",
    "        self.name=name\n",
    "        self.age=age\n",
    "        #调用实例变量要加self\n",
    "        print(self.name)\n",
    "        print(self.age)\n",
    "        #调用类变量加self.__class_. 或者类名\n",
    "        print(self.__class__.sum1)\n",
    "    \n",
    "    #定义实例方法必须指定self形参\n",
    "    def home_work(self):\n",
    "        print('homework')\n",
    "    \n",
    "    #定义类方法要加个装饰器\n",
    "    @classmethod\n",
    "    def plus(cls): #cls代表类本身\n",
    "        cls.sum1+=1\n",
    "        print(cls.sum1)\n",
    "        \n",
    "            \n",
    "#实例化   \n",
    "student1=Student('吴飞','21')\n",
    "#外部调用实例方法\n",
    "student1.home_work()\n",
    "#外部调用类方法\n",
    "Student.plus()#最好别用对象去调用类方法\n",
    "    "
   ]
  },
  {
   "cell_type": "markdown",
   "metadata": {},
   "source": [
    "#### 定义私有变量private"
   ]
  },
  {
   "cell_type": "code",
   "execution_count": 10,
   "metadata": {
    "collapsed": true
   },
   "outputs": [
    {
     "ename": "AttributeError",
     "evalue": "'Student' object has no attribute 'score'",
     "output_type": "error",
     "traceback": [
      "\u001b[1;31m---------------------------------------------------------------------------\u001b[0m",
      "\u001b[1;31mAttributeError\u001b[0m                            Traceback (most recent call last)",
      "\u001b[1;32m<ipython-input-10-d81eb546f740>\u001b[0m in \u001b[0;36m<module>\u001b[1;34m()\u001b[0m\n\u001b[0;32m      5\u001b[0m \u001b[1;33m\u001b[0m\u001b[0m\n\u001b[0;32m      6\u001b[0m \u001b[0mstudent1\u001b[0m\u001b[1;33m=\u001b[0m\u001b[0mStudent\u001b[0m\u001b[1;33m(\u001b[0m\u001b[1;36m60\u001b[0m\u001b[1;33m)\u001b[0m\u001b[1;33m\u001b[0m\u001b[0m\n\u001b[1;32m----> 7\u001b[1;33m \u001b[0mprint\u001b[0m\u001b[1;33m(\u001b[0m\u001b[0mstudent1\u001b[0m\u001b[1;33m.\u001b[0m\u001b[0mscore\u001b[0m\u001b[1;33m)\u001b[0m\u001b[1;33m\u001b[0m\u001b[0m\n\u001b[0m\u001b[0;32m      8\u001b[0m \u001b[1;33m\u001b[0m\u001b[0m\n",
      "\u001b[1;31mAttributeError\u001b[0m: 'Student' object has no attribute 'score'"
     ]
    }
   ],
   "source": [
    "#定义私有变量与方法  在变量名或方法前加双划线__\n",
    "class Student():\n",
    "    def __init__(self,score):\n",
    "        self.__score=score\n",
    "\n",
    "student1=Student(60)\n",
    "print(student1.score)\n",
    "        "
   ]
  },
  {
   "cell_type": "code",
   "execution_count": 18,
   "metadata": {},
   "outputs": [
    {
     "name": "stdout",
     "output_type": "stream",
     "text": [
      "60\n",
      "100\n",
      "{'_Student__score': 60, '__score': 100}\n"
     ]
    }
   ],
   "source": [
    "class Student():\n",
    "    def __init__(self,score):\n",
    "        self.__score=score\n",
    "    \n",
    "    def print_score(self):\n",
    "        print(self.__score) #私有变量只能通过内部访问\n",
    "student1=Student(60)\n",
    "student1.print_score()\n",
    "student1.__score=100 #注意此时并没有访问到私有变量，而是创建了__score新公开变量\n",
    "print(student1.__score)\n",
    "print(student1.__dict__)#可以看出python定义私有变量的方式就是内部改名"
   ]
  },
  {
   "cell_type": "markdown",
   "metadata": {},
   "source": [
    "#### 继承性"
   ]
  },
  {
   "cell_type": "code",
   "execution_count": 1,
   "metadata": {},
   "outputs": [
    {
     "name": "stdout",
     "output_type": "stream",
     "text": [
      "实验中学\n",
      "吴飞\n"
     ]
    }
   ],
   "source": [
    "#定义父类\n",
    "class Human(): \n",
    "    def __init__(self,name,age):\n",
    "        self.name=name\n",
    "        self.age=age\n",
    "    \n",
    "    def print_info(self):\n",
    "        print(self.name)\n",
    "        print(self.age)\n",
    "        \n",
    "#定义子类\n",
    "class Student(Human):\n",
    "    #在定义子类自己的实例变量情况下，如何引用父类实例变量 用super\n",
    "    def __init__(self,school,name,age):\n",
    "        self.school=school\n",
    "        super(Student,self).__init__(name,age)\n",
    "\n",
    "student1=Student('实验中学','吴飞',19)\n",
    "print(student1.school)\n",
    "print(student1.name)"
   ]
  },
  {
   "cell_type": "markdown",
   "metadata": {},
   "source": [
    "### Json"
   ]
  },
  {
   "cell_type": "markdown",
   "metadata": {},
   "source": [
    "#### Json格式转化为python数据格式（反序列化）"
   ]
  },
  {
   "cell_type": "code",
   "execution_count": 8,
   "metadata": {},
   "outputs": [
    {
     "name": "stdout",
     "output_type": "stream",
     "text": [
      "{'name': 'wufei', 'age': 21}\n",
      "<class 'dict'>\n",
      "[{'name': 'wufei', 'age': 21}, {'name': 'lotus', 'age': 18}]\n",
      "<class 'list'>\n"
     ]
    }
   ],
   "source": [
    "#Json是一种轻量级的数据交换格式\n",
    "import json\n",
    "\n",
    "#Json字符串\n",
    "json_str1='{\"name\":\"wufei\",\"age\":21}'  #Json object\n",
    "json_str2='[{\"name\":\"wufei\",\"age\":21},{\"name\":\"lotus\",\"age\":18}]' #Json array\n",
    "\n",
    "#json.loads()\n",
    "#把json格式的字符串转化为python格式中的字典格式 \n",
    "student=json.loads(json_str1)\n",
    "#把json格式的字符串转化为python格式中的列表格式 \n",
    "students=json.loads(json_str2)\n",
    "print(student)\n",
    "print(type(student))\n",
    "print(students)\n",
    "print(type(students))"
   ]
  },
  {
   "cell_type": "markdown",
   "metadata": {},
   "source": [
    "#### python数据格式转化为Json数据格式(序列化)"
   ]
  },
  {
   "cell_type": "code",
   "execution_count": 12,
   "metadata": {},
   "outputs": [
    {
     "name": "stdout",
     "output_type": "stream",
     "text": [
      "<class 'str'>\n"
     ]
    }
   ],
   "source": [
    "import json\n",
    "\n",
    "Json_data={\n",
    "    'name':'lotus',\n",
    "    'age':18,\n",
    "    'flag':False\n",
    "}\n",
    "\n",
    "#json.dumps()\n",
    "python_data=json.dumps(Json_data)\n",
    "print(type(python_data))"
   ]
  }
 ],
 "metadata": {
  "kernelspec": {
   "display_name": "Python 3",
   "language": "python",
   "name": "python3"
  },
  "language_info": {
   "codemirror_mode": {
    "name": "ipython",
    "version": 3
   },
   "file_extension": ".py",
   "mimetype": "text/x-python",
   "name": "python",
   "nbconvert_exporter": "python",
   "pygments_lexer": "ipython3",
   "version": "3.6.3"
  },
  "toc": {
   "nav_menu": {},
   "number_sections": true,
   "sideBar": false,
   "skip_h1_title": false,
   "title_cell": "Table of Contents",
   "title_sidebar": "Contents",
   "toc_cell": false,
   "toc_position": {
    "height": "454px",
    "left": "838px",
    "top": "99px",
    "width": "480px"
   },
   "toc_section_display": true,
   "toc_window_display": false
  }
 },
 "nbformat": 4,
 "nbformat_minor": 2
}
