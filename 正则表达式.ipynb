{
 "cells": [
  {
   "cell_type": "markdown",
   "metadata": {},
   "source": [
    "# 正则表达式"
   ]
  },
  {
   "cell_type": "markdown",
   "metadata": {
    "collapsed": true
   },
   "source": [
    "## re.match(pattern,string,flags=0)"
   ]
  },
  {
   "cell_type": "markdown",
   "metadata": {},
   "source": [
    " 尝试从字符串的起始位置匹配一个模式，如果不是起始位置匹配成功的话，match()就返回none"
   ]
  },
  {
   "cell_type": "markdown",
   "metadata": {},
   "source": [
    "### 常规匹配"
   ]
  },
  {
   "cell_type": "code",
   "execution_count": 3,
   "metadata": {},
   "outputs": [
    {
     "name": "stdout",
     "output_type": "stream",
     "text": [
      "<class '_sre.SRE_Match'>\n",
      "Hello Designlotus QQ1578436006 phonenumber13006318608\n",
      "(0, 53)\n",
      "<class '_sre.SRE_Match'>\n",
      "Hello Designlotus QQ1578436006\n",
      "phonenumber13006318608\n",
      "(0, 53)\n"
     ]
    }
   ],
   "source": [
    "import re\n",
    "\n",
    "content=\"Hello Designlotus QQ1578436006 phonenumber13006318608\"\n",
    "result=re.match('^Hello\\s\\w{11}\\s\\w{2}\\d{10}\\s.*8608$',content)\n",
    "print(type(result))\n",
    "print(result.group()) #返回匹配的内容\n",
    "print(result.span())#返回匹配的范围\n",
    "\n",
    "#注意  .*表示连续匹配除换行符外任何字符\n",
    "\n",
    "#加入re.S  .*会匹配任意字符\n",
    "content2='''Hello Designlotus QQ1578436006\n",
    "phonenumber13006318608'''\n",
    "result2=re.match('^Hello.*8608$',content2,re.S)\n",
    "print(result2.group())\n",
    "print(result2.span())"
   ]
  },
  {
   "cell_type": "markdown",
   "metadata": {
    "heading_collapsed": true
   },
   "source": [
    "### 匹配目标—分组"
   ]
  },
  {
   "cell_type": "code",
   "execution_count": 9,
   "metadata": {
    "hidden": true
   },
   "outputs": [
    {
     "name": "stdout",
     "output_type": "stream",
     "text": [
      "QQ1578436006\n",
      "13006318608\n"
     ]
    }
   ],
   "source": [
    "import re\n",
    "\n",
    "content=\"Hello Designlotus QQ1578436006 phonenumber13006318608\"\n",
    "result=re.match('^Hello\\s\\w*\\s(QQ\\d+)\\s.*?(\\d+)$',content)\n",
    "print(result.group(1))  #返回第一个括号的匹配内容\n",
    "print(result.group(2))"
   ]
  },
  {
   "cell_type": "markdown",
   "metadata": {
    "heading_collapsed": true
   },
   "source": [
    "### 贪婪匹配"
   ]
  },
  {
   "cell_type": "code",
   "execution_count": 9,
   "metadata": {
    "hidden": true
   },
   "outputs": [
    {
     "name": "stdout",
     "output_type": "stream",
     "text": [
      "<_sre.SRE_Match object; span=(0, 53), match='Hello Designlotus QQ1578436006 phonenumber1300631>\n",
      "6\n"
     ]
    }
   ],
   "source": [
    "import re\n",
    "\n",
    "content=\"Hello Designlotus QQ1578436006 phonenumber13006318608\"\n",
    "result=re.match('^He.*(\\d+)\\s.*8608$',content)\n",
    "print(result)\n",
    "print(result.group(1)) \n",
    "# .*默认会匹配尽可能多的字符"
   ]
  },
  {
   "cell_type": "markdown",
   "metadata": {},
   "source": [
    "### 非贪婪匹配（常用）"
   ]
  },
  {
   "cell_type": "code",
   "execution_count": 11,
   "metadata": {},
   "outputs": [
    {
     "name": "stdout",
     "output_type": "stream",
     "text": [
      "<_sre.SRE_Match object; span=(0, 53), match='Hello Designlotus QQ1578436006 phonenumber1300631>\n",
      "1578436006\n"
     ]
    }
   ],
   "source": [
    "import re\n",
    "\n",
    "content=\"Hello Designlotus QQ1578436006 phonenumber13006318608\"\n",
    "result=re.match('^He.*?(\\d+)\\s.*8608$',content) \n",
    "print(result)\n",
    "print(result.group(1))\n",
    "# .*?  加了? 表示尽可能少的匹配内容"
   ]
  },
  {
   "cell_type": "markdown",
   "metadata": {},
   "source": [
    "### 总结"
   ]
  },
  {
   "cell_type": "markdown",
   "metadata": {},
   "source": [
    "##### 1.尽量使用泛匹配  2.使用括号得到匹配目标  3.尽量使用非贪婪匹配  4.特殊字符匹配加上\\ 如：\\\\\\$   \\ \\."
   ]
  },
  {
   "cell_type": "markdown",
   "metadata": {},
   "source": [
    "## re.search() 扫描整个字符串并返回第一个成功的匹配"
   ]
  },
  {
   "cell_type": "code",
   "execution_count": 36,
   "metadata": {},
   "outputs": [
    {
     "data": {
      "text/plain": [
       "\"['21', '1578436996', '13006318608']\""
      ]
     },
     "execution_count": 36,
     "metadata": {},
     "output_type": "execute_result"
    }
   ],
   "source": [
    "string='wufei age21 man zuel statistic QQ1578436996PhoneNumber13006318608'\n",
    "result=re.findall('\\d+',string)\n",
    "result"
   ]
  },
  {
   "cell_type": "markdown",
   "metadata": {},
   "source": [
    " 注意：能用search就不用match"
   ]
  },
  {
   "cell_type": "markdown",
   "metadata": {},
   "source": [
    "## re.findall() 返回所有匹配结果"
   ]
  },
  {
   "cell_type": "markdown",
   "metadata": {
    "heading_collapsed": true
   },
   "source": [
    "## re.sub(pattern,替换的内容,string)"
   ]
  },
  {
   "cell_type": "markdown",
   "metadata": {
    "heading_collapsed": true
   },
   "source": [
    "## re.compile()将正则表达式编译成正则对象，以便实现代码复用"
   ]
  },
  {
   "cell_type": "code",
   "execution_count": 25,
   "metadata": {
    "hidden": true,
    "scrolled": true
   },
   "outputs": [
    {
     "name": "stdout",
     "output_type": "stream",
     "text": [
      "<_sre.SRE_Match object; span=(0, 53), match='Hello Designlotus QQ1578436006 phonenumber1300631>\n"
     ]
    }
   ],
   "source": [
    "import re\n",
    "\n",
    "#不使用re.comoile\n",
    "# content=\"Hello Designlotus QQ1578436006 phonenumber13006318608\"\n",
    "# result=re.match('^He.*?(\\d+)\\s.*8608$',content) \n",
    "# print(result)\n",
    "\n",
    "#使用re.comoile\n",
    "content=\"Hello Designlotus QQ1578436006 phonenumber13006318608\"\n",
    "pattern=re.compile('^He.*?(\\d+)\\s.*8608$') \n",
    "result=re.match(pattern,content)\n",
    "print(result)\n"
   ]
  },
  {
   "cell_type": "code",
   "execution_count": null,
   "metadata": {
    "collapsed": true,
    "hidden": true
   },
   "outputs": [],
   "source": []
  }
 ],
 "metadata": {
  "kernelspec": {
   "display_name": "Python 3",
   "language": "python",
   "name": "python3"
  },
  "language_info": {
   "codemirror_mode": {
    "name": "ipython",
    "version": 3
   },
   "file_extension": ".py",
   "mimetype": "text/x-python",
   "name": "python",
   "nbconvert_exporter": "python",
   "pygments_lexer": "ipython3",
   "version": "3.6.4"
  },
  "latex_envs": {
   "LaTeX_envs_menu_present": false,
   "autoclose": false,
   "autocomplete": true,
   "bibliofile": "biblio.bib",
   "cite_by": "apalike",
   "current_citInitial": 1,
   "eqLabelWithNumbers": true,
   "eqNumInitial": 1,
   "hotkeys": {
    "equation": "Ctrl-E",
    "itemize": "Ctrl-I"
   },
   "labels_anchors": false,
   "latex_user_defs": false,
   "report_style_numbering": false,
   "user_envs_cfg": false
  },
  "toc": {
   "base_numbering": 1,
   "nav_menu": {},
   "number_sections": true,
   "sideBar": true,
   "skip_h1_title": false,
   "title_cell": "Table of Contents",
   "title_sidebar": "Contents",
   "toc_cell": false,
   "toc_position": {},
   "toc_section_display": true,
   "toc_window_display": false
  }
 },
 "nbformat": 4,
 "nbformat_minor": 2
}
